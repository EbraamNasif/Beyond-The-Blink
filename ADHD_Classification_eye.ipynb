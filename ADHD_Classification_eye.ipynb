{
 "cells": [
  {
   "cell_type": "code",
   "execution_count": 5,
   "metadata": {},
   "outputs": [],
   "source": [
    "import pandas as pd\n",
    "from sklearn.model_selection import train_test_split\n",
    "from sklearn.metrics import accuracy_score\n",
    "from sklearn.model_selection import cross_val_score\n",
    "from sklearn.svm import SVC\n",
    "from sklearn.discriminant_analysis import StandardScaler\n",
    "import h5py\n",
    "\n"
   ]
  },
  {
   "cell_type": "code",
   "execution_count": 101,
   "metadata": {},
   "outputs": [
    {
     "name": "stdout",
     "output_type": "stream",
     "text": [
      "[3707764736          2          1          1          1          1]\n"
     ]
    }
   ],
   "source": [
    "ADHD_data = h5py.File('Pupil_dataset.mat','r')\n",
    "ADHD_data.keys()\n",
    "# data = pd.DataFrame(ADHD_data['Pupil_data'])\n",
    "# data.shape\n",
    "\n",
    "group = ADHD_data['Pupil_data/Task_data'] # Replace 'group_name' with the name of the group you want to access\n",
    "\n",
    "print(ADHD_data[group[0][0]][0])\n",
    "\n",
    "\n",
    "# for i in range(len(group)):\n",
    "#     print(ADHD_data[group[i]])\n",
    "\n",
    "\n",
    "# print(len(ADHD_data[group[0]]))\n",
    "\n",
    "# List all datasets and subgroups within the group\n",
    "# subgroup_names = list(group.keys())\n",
    "# dataset_names = [name for name in subgroup_names if isinstance(group[name], h5py.Dataset)]\n",
    "\n",
    "# # Print the names of datasets\n",
    "# print(\"Datasets:\")\n",
    "# for dataset_name in dataset_names:\n",
    "#     print(dataset_name)\n",
    "\n",
    "# # Print the names of subgroups\n",
    "# print(\"\\nSubgroups:\")\n",
    "# for subgroup_name in subgroup_names:\n",
    "#     if subgroup_name not in dataset_names:\n",
    "#         print(subgroup_name)\n",
    "\n",
    "# isinstance(, h5py.Dataset)\n",
    "\n",
    "# data_dict = {}\n",
    "\n",
    "# for dataset_name in group.keys():\n",
    "#     # Get the dataset object\n",
    "#     dataset = group[dataset_name]\n",
    "\n",
    "#     # Retrieve the reference data from the dataset\n",
    "#     reference_data = dataset[()]\n",
    "#     print(ADHD_data[reference_data[0][0]])\n",
    "#     # print(reference_data[0][0].h5py.h5r.)\n",
    "#     # dereferenced_data = h5py.h5r.dereference(reference_data[0][0], ADHD_data.id)\n",
    "#     # data_dict[dataset_name] = dereferenced_data[].tolist()  # Convert HDF5 dataset to a Python list\n",
    "\n",
    "#     # print(dereferenced_data)\n",
    "\n",
    "#     # Dereference the reference data to get the actual data\n",
    "#     # dereferenced_data = ADHD_data[reference_data]\n",
    "\n",
    "#     # Store the dereferenced data in the dictionary with the dataset name as the key\n",
    "#     # data_dict[dataset_name] = dereferenced_data[:].tolist()  \n",
    "\n",
    "# data_dict"
   ]
  }
 ],
 "metadata": {
  "kernelspec": {
   "display_name": "base",
   "language": "python",
   "name": "python3"
  },
  "language_info": {
   "codemirror_mode": {
    "name": "ipython",
    "version": 3
   },
   "file_extension": ".py",
   "mimetype": "text/x-python",
   "name": "python",
   "nbconvert_exporter": "python",
   "pygments_lexer": "ipython3",
   "version": "3.10.13"
  }
 },
 "nbformat": 4,
 "nbformat_minor": 2
}
