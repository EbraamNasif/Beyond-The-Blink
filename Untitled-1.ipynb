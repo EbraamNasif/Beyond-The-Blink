{
 "cells": [
  {
   "cell_type": "code",
   "execution_count": 64,
   "metadata": {},
   "outputs": [],
   "source": [
    "import pandas as pd\n",
    "from sklearn.model_selection import train_test_split\n",
    "from sklearn.metrics import accuracy_score\n",
    "from sklearn.model_selection import cross_val_score\n",
    "from sklearn.svm import SVC\n",
    "from sklearn.ensemble import RandomForestClassifier, VotingClassifier\n",
    "from sklearn.neighbors import KNeighborsClassifier\n",
    "from sklearn.discriminant_analysis import StandardScaler\n",
    "from xgboost import XGBClassifier\n",
    "from lightgbm import LGBMClassifier\n",
    "from sklearn.ensemble import HistGradientBoostingClassifier\n",
    "from sklearn.neural_network import MLPClassifier\n",
    "import joblib\n",
    "import torch"
   ]
  },
  {
   "cell_type": "code",
   "execution_count": 2,
   "metadata": {},
   "outputs": [],
   "source": [
    "task_data = pd.read_csv(\"task_data_1.csv\")\n",
    "task_epoc = pd.read_csv(\"Task_epocs_1.csv\")\n",
    "col = task_epoc.columns.to_list()"
   ]
  },
  {
   "cell_type": "code",
   "execution_count": 3,
   "metadata": {},
   "outputs": [
    {
     "data": {
      "text/html": [
       "<div>\n",
       "<style scoped>\n",
       "    .dataframe tbody tr th:only-of-type {\n",
       "        vertical-align: middle;\n",
       "    }\n",
       "\n",
       "    .dataframe tbody tr th {\n",
       "        vertical-align: top;\n",
       "    }\n",
       "\n",
       "    .dataframe thead th {\n",
       "        text-align: right;\n",
       "    }\n",
       "</style>\n",
       "<table border=\"1\" class=\"dataframe\">\n",
       "  <thead>\n",
       "    <tr style=\"text-align: right;\">\n",
       "      <th></th>\n",
       "      <th>Time</th>\n",
       "      <th>Position_x</th>\n",
       "      <th>Position_y</th>\n",
       "    </tr>\n",
       "  </thead>\n",
       "  <tbody>\n",
       "    <tr>\n",
       "      <th>0</th>\n",
       "      <td>NaN</td>\n",
       "      <td>NaN</td>\n",
       "      <td>NaN</td>\n",
       "    </tr>\n",
       "    <tr>\n",
       "      <th>1</th>\n",
       "      <td>NaN</td>\n",
       "      <td>NaN</td>\n",
       "      <td>NaN</td>\n",
       "    </tr>\n",
       "    <tr>\n",
       "      <th>2</th>\n",
       "      <td>NaN</td>\n",
       "      <td>NaN</td>\n",
       "      <td>NaN</td>\n",
       "    </tr>\n",
       "    <tr>\n",
       "      <th>3</th>\n",
       "      <td>NaN</td>\n",
       "      <td>NaN</td>\n",
       "      <td>NaN</td>\n",
       "    </tr>\n",
       "    <tr>\n",
       "      <th>4</th>\n",
       "      <td>NaN</td>\n",
       "      <td>NaN</td>\n",
       "      <td>NaN</td>\n",
       "    </tr>\n",
       "  </tbody>\n",
       "</table>\n",
       "</div>"
      ],
      "text/plain": [
       "   Time  Position_x  Position_y\n",
       "0   NaN         NaN         NaN\n",
       "1   NaN         NaN         NaN\n",
       "2   NaN         NaN         NaN\n",
       "3   NaN         NaN         NaN\n",
       "4   NaN         NaN         NaN"
      ]
     },
     "execution_count": 3,
     "metadata": {},
     "output_type": "execute_result"
    }
   ],
   "source": [
    "#task_data.head()\n",
    "\n",
    "task_data = task_data.drop('Events', axis=1)\n",
    "\n",
    "task_data.head()"
   ]
  },
  {
   "cell_type": "code",
   "execution_count": 19,
   "metadata": {},
   "outputs": [
    {
     "data": {
      "text/html": [
       "<div>\n",
       "<style scoped>\n",
       "    .dataframe tbody tr th:only-of-type {\n",
       "        vertical-align: middle;\n",
       "    }\n",
       "\n",
       "    .dataframe tbody tr th {\n",
       "        vertical-align: top;\n",
       "    }\n",
       "\n",
       "    .dataframe thead th {\n",
       "        text-align: right;\n",
       "    }\n",
       "</style>\n",
       "<table border=\"1\" class=\"dataframe\">\n",
       "  <thead>\n",
       "    <tr style=\"text-align: right;\">\n",
       "      <th></th>\n",
       "      <th>Time</th>\n",
       "      <th>Position_x</th>\n",
       "      <th>Position_y</th>\n",
       "    </tr>\n",
       "  </thead>\n",
       "  <tbody>\n",
       "    <tr>\n",
       "      <th>23</th>\n",
       "      <td>4377832.0</td>\n",
       "      <td>936.6</td>\n",
       "      <td>136.3</td>\n",
       "    </tr>\n",
       "    <tr>\n",
       "      <th>24</th>\n",
       "      <td>4377833.0</td>\n",
       "      <td>936.2</td>\n",
       "      <td>136.5</td>\n",
       "    </tr>\n",
       "    <tr>\n",
       "      <th>25</th>\n",
       "      <td>4377834.0</td>\n",
       "      <td>936.6</td>\n",
       "      <td>136.6</td>\n",
       "    </tr>\n",
       "    <tr>\n",
       "      <th>26</th>\n",
       "      <td>4377835.0</td>\n",
       "      <td>937.0</td>\n",
       "      <td>136.6</td>\n",
       "    </tr>\n",
       "    <tr>\n",
       "      <th>27</th>\n",
       "      <td>4377836.0</td>\n",
       "      <td>937.1</td>\n",
       "      <td>136.5</td>\n",
       "    </tr>\n",
       "    <tr>\n",
       "      <th>...</th>\n",
       "      <td>...</td>\n",
       "      <td>...</td>\n",
       "      <td>...</td>\n",
       "    </tr>\n",
       "    <tr>\n",
       "      <th>1369473</th>\n",
       "      <td>6677900.0</td>\n",
       "      <td>1004.3</td>\n",
       "      <td>NaN</td>\n",
       "    </tr>\n",
       "    <tr>\n",
       "      <th>1369474</th>\n",
       "      <td>6677901.0</td>\n",
       "      <td>1004.3</td>\n",
       "      <td>NaN</td>\n",
       "    </tr>\n",
       "    <tr>\n",
       "      <th>1369475</th>\n",
       "      <td>6677902.0</td>\n",
       "      <td>1004.1</td>\n",
       "      <td>NaN</td>\n",
       "    </tr>\n",
       "    <tr>\n",
       "      <th>1369476</th>\n",
       "      <td>6677903.0</td>\n",
       "      <td>1003.6</td>\n",
       "      <td>NaN</td>\n",
       "    </tr>\n",
       "    <tr>\n",
       "      <th>1369478</th>\n",
       "      <td>6677904.0</td>\n",
       "      <td>1003.1</td>\n",
       "      <td>NaN</td>\n",
       "    </tr>\n",
       "  </tbody>\n",
       "</table>\n",
       "<p>1360860 rows × 3 columns</p>\n",
       "</div>"
      ],
      "text/plain": [
       "              Time  Position_x  Position_y\n",
       "23       4377832.0       936.6       136.3\n",
       "24       4377833.0       936.2       136.5\n",
       "25       4377834.0       936.6       136.6\n",
       "26       4377835.0       937.0       136.6\n",
       "27       4377836.0       937.1       136.5\n",
       "...            ...         ...         ...\n",
       "1369473  6677900.0      1004.3         NaN\n",
       "1369474  6677901.0      1004.3         NaN\n",
       "1369475  6677902.0      1004.1         NaN\n",
       "1369476  6677903.0      1003.6         NaN\n",
       "1369478  6677904.0      1003.1         NaN\n",
       "\n",
       "[1360860 rows x 3 columns]"
      ]
     },
     "execution_count": 19,
     "metadata": {},
     "output_type": "execute_result"
    }
   ],
   "source": [
    "task_data_cleaned = task_data.dropna(subset=['Time'])\n",
    "\n",
    "task_data_cleaned"
   ]
  },
  {
   "cell_type": "code",
   "execution_count": 14,
   "metadata": {},
   "outputs": [],
   "source": [
    "task_data2 = task_data.dropna(subset=['Time'])\n",
    "first_value = task_data2.iloc[0, 0]\n",
    "task_data2 -= first_value"
   ]
  },
  {
   "cell_type": "code",
   "execution_count": 15,
   "metadata": {},
   "outputs": [
    {
     "data": {
      "text/html": [
       "<div>\n",
       "<style scoped>\n",
       "    .dataframe tbody tr th:only-of-type {\n",
       "        vertical-align: middle;\n",
       "    }\n",
       "\n",
       "    .dataframe tbody tr th {\n",
       "        vertical-align: top;\n",
       "    }\n",
       "\n",
       "    .dataframe thead th {\n",
       "        text-align: right;\n",
       "    }\n",
       "</style>\n",
       "<table border=\"1\" class=\"dataframe\">\n",
       "  <thead>\n",
       "    <tr style=\"text-align: right;\">\n",
       "      <th></th>\n",
       "      <th>Time</th>\n",
       "      <th>Position_x</th>\n",
       "      <th>Position_y</th>\n",
       "    </tr>\n",
       "  </thead>\n",
       "  <tbody>\n",
       "    <tr>\n",
       "      <th>23</th>\n",
       "      <td>0.0</td>\n",
       "      <td>-4376895.4</td>\n",
       "      <td>-4377695.7</td>\n",
       "    </tr>\n",
       "    <tr>\n",
       "      <th>24</th>\n",
       "      <td>1.0</td>\n",
       "      <td>-4376895.8</td>\n",
       "      <td>-4377695.5</td>\n",
       "    </tr>\n",
       "    <tr>\n",
       "      <th>25</th>\n",
       "      <td>2.0</td>\n",
       "      <td>-4376895.4</td>\n",
       "      <td>-4377695.4</td>\n",
       "    </tr>\n",
       "    <tr>\n",
       "      <th>26</th>\n",
       "      <td>3.0</td>\n",
       "      <td>-4376895.0</td>\n",
       "      <td>-4377695.4</td>\n",
       "    </tr>\n",
       "    <tr>\n",
       "      <th>27</th>\n",
       "      <td>4.0</td>\n",
       "      <td>-4376894.9</td>\n",
       "      <td>-4377695.5</td>\n",
       "    </tr>\n",
       "    <tr>\n",
       "      <th>...</th>\n",
       "      <td>...</td>\n",
       "      <td>...</td>\n",
       "      <td>...</td>\n",
       "    </tr>\n",
       "    <tr>\n",
       "      <th>1369473</th>\n",
       "      <td>2300068.0</td>\n",
       "      <td>-4376827.7</td>\n",
       "      <td>NaN</td>\n",
       "    </tr>\n",
       "    <tr>\n",
       "      <th>1369474</th>\n",
       "      <td>2300069.0</td>\n",
       "      <td>-4376827.7</td>\n",
       "      <td>NaN</td>\n",
       "    </tr>\n",
       "    <tr>\n",
       "      <th>1369475</th>\n",
       "      <td>2300070.0</td>\n",
       "      <td>-4376827.9</td>\n",
       "      <td>NaN</td>\n",
       "    </tr>\n",
       "    <tr>\n",
       "      <th>1369476</th>\n",
       "      <td>2300071.0</td>\n",
       "      <td>-4376828.4</td>\n",
       "      <td>NaN</td>\n",
       "    </tr>\n",
       "    <tr>\n",
       "      <th>1369478</th>\n",
       "      <td>2300072.0</td>\n",
       "      <td>-4376828.9</td>\n",
       "      <td>NaN</td>\n",
       "    </tr>\n",
       "  </tbody>\n",
       "</table>\n",
       "<p>1360860 rows × 3 columns</p>\n",
       "</div>"
      ],
      "text/plain": [
       "              Time  Position_x  Position_y\n",
       "23             0.0  -4376895.4  -4377695.7\n",
       "24             1.0  -4376895.8  -4377695.5\n",
       "25             2.0  -4376895.4  -4377695.4\n",
       "26             3.0  -4376895.0  -4377695.4\n",
       "27             4.0  -4376894.9  -4377695.5\n",
       "...            ...         ...         ...\n",
       "1369473  2300068.0  -4376827.7         NaN\n",
       "1369474  2300069.0  -4376827.7         NaN\n",
       "1369475  2300070.0  -4376827.9         NaN\n",
       "1369476  2300071.0  -4376828.4         NaN\n",
       "1369478  2300072.0  -4376828.9         NaN\n",
       "\n",
       "[1360860 rows x 3 columns]"
      ]
     },
     "execution_count": 15,
     "metadata": {},
     "output_type": "execute_result"
    }
   ],
   "source": [
    "task_data2"
   ]
  },
  {
   "cell_type": "code",
   "execution_count": 21,
   "metadata": {},
   "outputs": [
    {
     "name": "stderr",
     "output_type": "stream",
     "text": [
      "C:\\Users\\Ghareeb\\AppData\\Local\\Temp\\ipykernel_27112\\1789593544.py:3: SettingWithCopyWarning: \n",
      "A value is trying to be set on a copy of a slice from a DataFrame.\n",
      "Try using .loc[row_indexer,col_indexer] = value instead\n",
      "\n",
      "See the caveats in the documentation: https://pandas.pydata.org/pandas-docs/stable/user_guide/indexing.html#returning-a-view-versus-a-copy\n",
      "  task_data_cleaned['Time'] -= first_value\n"
     ]
    }
   ],
   "source": [
    "task_data_cleaned = task_data.dropna(subset=['Time'])\n",
    "first_value = task_data_cleaned.iloc[0, 0]\n",
    "task_data_cleaned['Time'] -= first_value"
   ]
  },
  {
   "cell_type": "code",
   "execution_count": 22,
   "metadata": {},
   "outputs": [
    {
     "data": {
      "text/html": [
       "<div>\n",
       "<style scoped>\n",
       "    .dataframe tbody tr th:only-of-type {\n",
       "        vertical-align: middle;\n",
       "    }\n",
       "\n",
       "    .dataframe tbody tr th {\n",
       "        vertical-align: top;\n",
       "    }\n",
       "\n",
       "    .dataframe thead th {\n",
       "        text-align: right;\n",
       "    }\n",
       "</style>\n",
       "<table border=\"1\" class=\"dataframe\">\n",
       "  <thead>\n",
       "    <tr style=\"text-align: right;\">\n",
       "      <th></th>\n",
       "      <th>Time</th>\n",
       "      <th>Position_x</th>\n",
       "      <th>Position_y</th>\n",
       "    </tr>\n",
       "  </thead>\n",
       "  <tbody>\n",
       "    <tr>\n",
       "      <th>23</th>\n",
       "      <td>0.0</td>\n",
       "      <td>936.6</td>\n",
       "      <td>136.3</td>\n",
       "    </tr>\n",
       "    <tr>\n",
       "      <th>24</th>\n",
       "      <td>1.0</td>\n",
       "      <td>936.2</td>\n",
       "      <td>136.5</td>\n",
       "    </tr>\n",
       "    <tr>\n",
       "      <th>25</th>\n",
       "      <td>2.0</td>\n",
       "      <td>936.6</td>\n",
       "      <td>136.6</td>\n",
       "    </tr>\n",
       "    <tr>\n",
       "      <th>26</th>\n",
       "      <td>3.0</td>\n",
       "      <td>937.0</td>\n",
       "      <td>136.6</td>\n",
       "    </tr>\n",
       "    <tr>\n",
       "      <th>27</th>\n",
       "      <td>4.0</td>\n",
       "      <td>937.1</td>\n",
       "      <td>136.5</td>\n",
       "    </tr>\n",
       "    <tr>\n",
       "      <th>...</th>\n",
       "      <td>...</td>\n",
       "      <td>...</td>\n",
       "      <td>...</td>\n",
       "    </tr>\n",
       "    <tr>\n",
       "      <th>1369473</th>\n",
       "      <td>2300068.0</td>\n",
       "      <td>1004.3</td>\n",
       "      <td>NaN</td>\n",
       "    </tr>\n",
       "    <tr>\n",
       "      <th>1369474</th>\n",
       "      <td>2300069.0</td>\n",
       "      <td>1004.3</td>\n",
       "      <td>NaN</td>\n",
       "    </tr>\n",
       "    <tr>\n",
       "      <th>1369475</th>\n",
       "      <td>2300070.0</td>\n",
       "      <td>1004.1</td>\n",
       "      <td>NaN</td>\n",
       "    </tr>\n",
       "    <tr>\n",
       "      <th>1369476</th>\n",
       "      <td>2300071.0</td>\n",
       "      <td>1003.6</td>\n",
       "      <td>NaN</td>\n",
       "    </tr>\n",
       "    <tr>\n",
       "      <th>1369478</th>\n",
       "      <td>2300072.0</td>\n",
       "      <td>1003.1</td>\n",
       "      <td>NaN</td>\n",
       "    </tr>\n",
       "  </tbody>\n",
       "</table>\n",
       "<p>1360860 rows × 3 columns</p>\n",
       "</div>"
      ],
      "text/plain": [
       "              Time  Position_x  Position_y\n",
       "23             0.0       936.6       136.3\n",
       "24             1.0       936.2       136.5\n",
       "25             2.0       936.6       136.6\n",
       "26             3.0       937.0       136.6\n",
       "27             4.0       937.1       136.5\n",
       "...            ...         ...         ...\n",
       "1369473  2300068.0      1004.3         NaN\n",
       "1369474  2300069.0      1004.3         NaN\n",
       "1369475  2300070.0      1004.1         NaN\n",
       "1369476  2300071.0      1003.6         NaN\n",
       "1369478  2300072.0      1003.1         NaN\n",
       "\n",
       "[1360860 rows x 3 columns]"
      ]
     },
     "execution_count": 22,
     "metadata": {},
     "output_type": "execute_result"
    }
   ],
   "source": [
    "task_data_cleaned"
   ]
  },
  {
   "cell_type": "code",
   "execution_count": 23,
   "metadata": {},
   "outputs": [
    {
     "name": "stderr",
     "output_type": "stream",
     "text": [
      "C:\\Users\\Ghareeb\\AppData\\Local\\Temp\\ipykernel_27112\\3095674600.py:1: FutureWarning: A value is trying to be set on a copy of a DataFrame or Series through chained assignment using an inplace method.\n",
      "The behavior will change in pandas 3.0. This inplace method will never work because the intermediate object on which we are setting values always behaves as a copy.\n",
      "\n",
      "For example, when doing 'df[col].method(value, inplace=True)', try using 'df.method({col: value}, inplace=True)' or df[col] = df[col].method(value) instead, to perform the operation inplace on the original object.\n",
      "\n",
      "\n",
      "  task_data_cleaned['Position_x'].fillna(-1,inplace = True)\n",
      "C:\\Users\\Ghareeb\\AppData\\Local\\Temp\\ipykernel_27112\\3095674600.py:1: SettingWithCopyWarning: \n",
      "A value is trying to be set on a copy of a slice from a DataFrame\n",
      "\n",
      "See the caveats in the documentation: https://pandas.pydata.org/pandas-docs/stable/user_guide/indexing.html#returning-a-view-versus-a-copy\n",
      "  task_data_cleaned['Position_x'].fillna(-1,inplace = True)\n",
      "C:\\Users\\Ghareeb\\AppData\\Local\\Temp\\ipykernel_27112\\3095674600.py:2: FutureWarning: A value is trying to be set on a copy of a DataFrame or Series through chained assignment using an inplace method.\n",
      "The behavior will change in pandas 3.0. This inplace method will never work because the intermediate object on which we are setting values always behaves as a copy.\n",
      "\n",
      "For example, when doing 'df[col].method(value, inplace=True)', try using 'df.method({col: value}, inplace=True)' or df[col] = df[col].method(value) instead, to perform the operation inplace on the original object.\n",
      "\n",
      "\n",
      "  task_data_cleaned['Position_y'].fillna(-1,inplace = True)\n",
      "C:\\Users\\Ghareeb\\AppData\\Local\\Temp\\ipykernel_27112\\3095674600.py:2: SettingWithCopyWarning: \n",
      "A value is trying to be set on a copy of a slice from a DataFrame\n",
      "\n",
      "See the caveats in the documentation: https://pandas.pydata.org/pandas-docs/stable/user_guide/indexing.html#returning-a-view-versus-a-copy\n",
      "  task_data_cleaned['Position_y'].fillna(-1,inplace = True)\n"
     ]
    }
   ],
   "source": [
    "task_data_cleaned['Position_x'].fillna(-1,inplace = True)\n",
    "task_data_cleaned['Position_y'].fillna(-1,inplace = True)"
   ]
  },
  {
   "cell_type": "code",
   "execution_count": 24,
   "metadata": {},
   "outputs": [
    {
     "data": {
      "text/html": [
       "<div>\n",
       "<style scoped>\n",
       "    .dataframe tbody tr th:only-of-type {\n",
       "        vertical-align: middle;\n",
       "    }\n",
       "\n",
       "    .dataframe tbody tr th {\n",
       "        vertical-align: top;\n",
       "    }\n",
       "\n",
       "    .dataframe thead th {\n",
       "        text-align: right;\n",
       "    }\n",
       "</style>\n",
       "<table border=\"1\" class=\"dataframe\">\n",
       "  <thead>\n",
       "    <tr style=\"text-align: right;\">\n",
       "      <th></th>\n",
       "      <th>Time</th>\n",
       "      <th>Position_x</th>\n",
       "      <th>Position_y</th>\n",
       "    </tr>\n",
       "  </thead>\n",
       "  <tbody>\n",
       "    <tr>\n",
       "      <th>23</th>\n",
       "      <td>0.0</td>\n",
       "      <td>936.6</td>\n",
       "      <td>136.3</td>\n",
       "    </tr>\n",
       "    <tr>\n",
       "      <th>24</th>\n",
       "      <td>1.0</td>\n",
       "      <td>936.2</td>\n",
       "      <td>136.5</td>\n",
       "    </tr>\n",
       "    <tr>\n",
       "      <th>25</th>\n",
       "      <td>2.0</td>\n",
       "      <td>936.6</td>\n",
       "      <td>136.6</td>\n",
       "    </tr>\n",
       "    <tr>\n",
       "      <th>26</th>\n",
       "      <td>3.0</td>\n",
       "      <td>937.0</td>\n",
       "      <td>136.6</td>\n",
       "    </tr>\n",
       "    <tr>\n",
       "      <th>27</th>\n",
       "      <td>4.0</td>\n",
       "      <td>937.1</td>\n",
       "      <td>136.5</td>\n",
       "    </tr>\n",
       "    <tr>\n",
       "      <th>...</th>\n",
       "      <td>...</td>\n",
       "      <td>...</td>\n",
       "      <td>...</td>\n",
       "    </tr>\n",
       "    <tr>\n",
       "      <th>1369473</th>\n",
       "      <td>2300068.0</td>\n",
       "      <td>1004.3</td>\n",
       "      <td>-1.0</td>\n",
       "    </tr>\n",
       "    <tr>\n",
       "      <th>1369474</th>\n",
       "      <td>2300069.0</td>\n",
       "      <td>1004.3</td>\n",
       "      <td>-1.0</td>\n",
       "    </tr>\n",
       "    <tr>\n",
       "      <th>1369475</th>\n",
       "      <td>2300070.0</td>\n",
       "      <td>1004.1</td>\n",
       "      <td>-1.0</td>\n",
       "    </tr>\n",
       "    <tr>\n",
       "      <th>1369476</th>\n",
       "      <td>2300071.0</td>\n",
       "      <td>1003.6</td>\n",
       "      <td>-1.0</td>\n",
       "    </tr>\n",
       "    <tr>\n",
       "      <th>1369478</th>\n",
       "      <td>2300072.0</td>\n",
       "      <td>1003.1</td>\n",
       "      <td>-1.0</td>\n",
       "    </tr>\n",
       "  </tbody>\n",
       "</table>\n",
       "<p>1360860 rows × 3 columns</p>\n",
       "</div>"
      ],
      "text/plain": [
       "              Time  Position_x  Position_y\n",
       "23             0.0       936.6       136.3\n",
       "24             1.0       936.2       136.5\n",
       "25             2.0       936.6       136.6\n",
       "26             3.0       937.0       136.6\n",
       "27             4.0       937.1       136.5\n",
       "...            ...         ...         ...\n",
       "1369473  2300068.0      1004.3        -1.0\n",
       "1369474  2300069.0      1004.3        -1.0\n",
       "1369475  2300070.0      1004.1        -1.0\n",
       "1369476  2300071.0      1003.6        -1.0\n",
       "1369478  2300072.0      1003.1        -1.0\n",
       "\n",
       "[1360860 rows x 3 columns]"
      ]
     },
     "execution_count": 24,
     "metadata": {},
     "output_type": "execute_result"
    }
   ],
   "source": [
    "task_data_cleaned"
   ]
  },
  {
   "cell_type": "code",
   "execution_count": 25,
   "metadata": {},
   "outputs": [
    {
     "data": {
      "text/html": [
       "<div>\n",
       "<style scoped>\n",
       "    .dataframe tbody tr th:only-of-type {\n",
       "        vertical-align: middle;\n",
       "    }\n",
       "\n",
       "    .dataframe tbody tr th {\n",
       "        vertical-align: top;\n",
       "    }\n",
       "\n",
       "    .dataframe thead th {\n",
       "        text-align: right;\n",
       "    }\n",
       "</style>\n",
       "<table border=\"1\" class=\"dataframe\">\n",
       "  <thead>\n",
       "    <tr style=\"text-align: right;\">\n",
       "      <th></th>\n",
       "      <th>Subject</th>\n",
       "      <th>Group</th>\n",
       "    </tr>\n",
       "  </thead>\n",
       "  <tbody>\n",
       "    <tr>\n",
       "      <th>0</th>\n",
       "      <td>1</td>\n",
       "      <td>ADHD</td>\n",
       "    </tr>\n",
       "    <tr>\n",
       "      <th>1</th>\n",
       "      <td>2</td>\n",
       "      <td>ADHD</td>\n",
       "    </tr>\n",
       "    <tr>\n",
       "      <th>2</th>\n",
       "      <td>3</td>\n",
       "      <td>ADHD</td>\n",
       "    </tr>\n",
       "    <tr>\n",
       "      <th>3</th>\n",
       "      <td>4</td>\n",
       "      <td>ADHD</td>\n",
       "    </tr>\n",
       "    <tr>\n",
       "      <th>4</th>\n",
       "      <td>5</td>\n",
       "      <td>ADHD</td>\n",
       "    </tr>\n",
       "    <tr>\n",
       "      <th>...</th>\n",
       "      <td>...</td>\n",
       "      <td>...</td>\n",
       "    </tr>\n",
       "    <tr>\n",
       "      <th>62</th>\n",
       "      <td>46</td>\n",
       "      <td>Control</td>\n",
       "    </tr>\n",
       "    <tr>\n",
       "      <th>63</th>\n",
       "      <td>47</td>\n",
       "      <td>Control</td>\n",
       "    </tr>\n",
       "    <tr>\n",
       "      <th>64</th>\n",
       "      <td>48</td>\n",
       "      <td>Control</td>\n",
       "    </tr>\n",
       "    <tr>\n",
       "      <th>65</th>\n",
       "      <td>49</td>\n",
       "      <td>Control</td>\n",
       "    </tr>\n",
       "    <tr>\n",
       "      <th>66</th>\n",
       "      <td>50</td>\n",
       "      <td>Control</td>\n",
       "    </tr>\n",
       "  </tbody>\n",
       "</table>\n",
       "<p>67 rows × 2 columns</p>\n",
       "</div>"
      ],
      "text/plain": [
       "    Subject    Group\n",
       "0         1     ADHD\n",
       "1         2     ADHD\n",
       "2         3     ADHD\n",
       "3         4     ADHD\n",
       "4         5     ADHD\n",
       "..      ...      ...\n",
       "62       46  Control\n",
       "63       47  Control\n",
       "64       48  Control\n",
       "65       49  Control\n",
       "66       50  Control\n",
       "\n",
       "[67 rows x 2 columns]"
      ]
     },
     "execution_count": 25,
     "metadata": {},
     "output_type": "execute_result"
    }
   ],
   "source": [
    "tags = pd.read_csv('tags.csv')\n",
    "tags"
   ]
  },
  {
   "cell_type": "code",
   "execution_count": 26,
   "metadata": {},
   "outputs": [],
   "source": [
    "for i in range(len(tags)):\n",
    "    if tags.iloc[i, 1] == 'ADHD':\n",
    "        tags.iloc[i, 1] = 1\n",
    "    elif tags.iloc[i, 1] == 'Control':\n",
    "        tags.iloc[i, 1] = 0"
   ]
  },
  {
   "cell_type": "code",
   "execution_count": 27,
   "metadata": {},
   "outputs": [
    {
     "data": {
      "text/html": [
       "<div>\n",
       "<style scoped>\n",
       "    .dataframe tbody tr th:only-of-type {\n",
       "        vertical-align: middle;\n",
       "    }\n",
       "\n",
       "    .dataframe tbody tr th {\n",
       "        vertical-align: top;\n",
       "    }\n",
       "\n",
       "    .dataframe thead th {\n",
       "        text-align: right;\n",
       "    }\n",
       "</style>\n",
       "<table border=\"1\" class=\"dataframe\">\n",
       "  <thead>\n",
       "    <tr style=\"text-align: right;\">\n",
       "      <th></th>\n",
       "      <th>Subject</th>\n",
       "      <th>Group</th>\n",
       "    </tr>\n",
       "  </thead>\n",
       "  <tbody>\n",
       "    <tr>\n",
       "      <th>0</th>\n",
       "      <td>1</td>\n",
       "      <td>1</td>\n",
       "    </tr>\n",
       "    <tr>\n",
       "      <th>1</th>\n",
       "      <td>2</td>\n",
       "      <td>1</td>\n",
       "    </tr>\n",
       "    <tr>\n",
       "      <th>2</th>\n",
       "      <td>3</td>\n",
       "      <td>1</td>\n",
       "    </tr>\n",
       "    <tr>\n",
       "      <th>3</th>\n",
       "      <td>4</td>\n",
       "      <td>1</td>\n",
       "    </tr>\n",
       "    <tr>\n",
       "      <th>4</th>\n",
       "      <td>5</td>\n",
       "      <td>1</td>\n",
       "    </tr>\n",
       "    <tr>\n",
       "      <th>...</th>\n",
       "      <td>...</td>\n",
       "      <td>...</td>\n",
       "    </tr>\n",
       "    <tr>\n",
       "      <th>62</th>\n",
       "      <td>46</td>\n",
       "      <td>0</td>\n",
       "    </tr>\n",
       "    <tr>\n",
       "      <th>63</th>\n",
       "      <td>47</td>\n",
       "      <td>0</td>\n",
       "    </tr>\n",
       "    <tr>\n",
       "      <th>64</th>\n",
       "      <td>48</td>\n",
       "      <td>0</td>\n",
       "    </tr>\n",
       "    <tr>\n",
       "      <th>65</th>\n",
       "      <td>49</td>\n",
       "      <td>0</td>\n",
       "    </tr>\n",
       "    <tr>\n",
       "      <th>66</th>\n",
       "      <td>50</td>\n",
       "      <td>0</td>\n",
       "    </tr>\n",
       "  </tbody>\n",
       "</table>\n",
       "<p>67 rows × 2 columns</p>\n",
       "</div>"
      ],
      "text/plain": [
       "    Subject Group\n",
       "0         1     1\n",
       "1         2     1\n",
       "2         3     1\n",
       "3         4     1\n",
       "4         5     1\n",
       "..      ...   ...\n",
       "62       46     0\n",
       "63       47     0\n",
       "64       48     0\n",
       "65       49     0\n",
       "66       50     0\n",
       "\n",
       "[67 rows x 2 columns]"
      ]
     },
     "execution_count": 27,
     "metadata": {},
     "output_type": "execute_result"
    }
   ],
   "source": [
    "tags"
   ]
  },
  {
   "cell_type": "code",
   "execution_count": 9,
   "metadata": {},
   "outputs": [
    {
     "data": {
      "text/plain": [
       "(1360860, 3)"
      ]
     },
     "execution_count": 9,
     "metadata": {},
     "output_type": "execute_result"
    }
   ],
   "source": [
    "task_data_cleaned.shape"
   ]
  },
  {
   "cell_type": "code",
   "execution_count": 10,
   "metadata": {},
   "outputs": [
    {
     "data": {
      "text/plain": [
       "(1369480, 3)"
      ]
     },
     "execution_count": 10,
     "metadata": {},
     "output_type": "execute_result"
    }
   ],
   "source": [
    "task_data.shape"
   ]
  },
  {
   "cell_type": "code",
   "execution_count": 28,
   "metadata": {},
   "outputs": [
    {
     "name": "stderr",
     "output_type": "stream",
     "text": [
      "C:\\Users\\Ghareeb\\AppData\\Local\\Temp\\ipykernel_27112\\1419443264.py:1: SettingWithCopyWarning: \n",
      "A value is trying to be set on a copy of a slice from a DataFrame.\n",
      "Try using .loc[row_indexer,col_indexer] = value instead\n",
      "\n",
      "See the caveats in the documentation: https://pandas.pydata.org/pandas-docs/stable/user_guide/indexing.html#returning-a-view-versus-a-copy\n",
      "  task_data_cleaned['output'] = 1\n"
     ]
    }
   ],
   "source": [
    "task_data_cleaned['output'] = 1"
   ]
  },
  {
   "cell_type": "code",
   "execution_count": 29,
   "metadata": {},
   "outputs": [
    {
     "data": {
      "text/html": [
       "<div>\n",
       "<style scoped>\n",
       "    .dataframe tbody tr th:only-of-type {\n",
       "        vertical-align: middle;\n",
       "    }\n",
       "\n",
       "    .dataframe tbody tr th {\n",
       "        vertical-align: top;\n",
       "    }\n",
       "\n",
       "    .dataframe thead th {\n",
       "        text-align: right;\n",
       "    }\n",
       "</style>\n",
       "<table border=\"1\" class=\"dataframe\">\n",
       "  <thead>\n",
       "    <tr style=\"text-align: right;\">\n",
       "      <th></th>\n",
       "      <th>Time</th>\n",
       "      <th>Position_x</th>\n",
       "      <th>Position_y</th>\n",
       "      <th>output</th>\n",
       "    </tr>\n",
       "  </thead>\n",
       "  <tbody>\n",
       "    <tr>\n",
       "      <th>23</th>\n",
       "      <td>0.0</td>\n",
       "      <td>936.6</td>\n",
       "      <td>136.3</td>\n",
       "      <td>1</td>\n",
       "    </tr>\n",
       "    <tr>\n",
       "      <th>24</th>\n",
       "      <td>1.0</td>\n",
       "      <td>936.2</td>\n",
       "      <td>136.5</td>\n",
       "      <td>1</td>\n",
       "    </tr>\n",
       "    <tr>\n",
       "      <th>25</th>\n",
       "      <td>2.0</td>\n",
       "      <td>936.6</td>\n",
       "      <td>136.6</td>\n",
       "      <td>1</td>\n",
       "    </tr>\n",
       "    <tr>\n",
       "      <th>26</th>\n",
       "      <td>3.0</td>\n",
       "      <td>937.0</td>\n",
       "      <td>136.6</td>\n",
       "      <td>1</td>\n",
       "    </tr>\n",
       "    <tr>\n",
       "      <th>27</th>\n",
       "      <td>4.0</td>\n",
       "      <td>937.1</td>\n",
       "      <td>136.5</td>\n",
       "      <td>1</td>\n",
       "    </tr>\n",
       "  </tbody>\n",
       "</table>\n",
       "</div>"
      ],
      "text/plain": [
       "    Time  Position_x  Position_y  output\n",
       "23   0.0       936.6       136.3       1\n",
       "24   1.0       936.2       136.5       1\n",
       "25   2.0       936.6       136.6       1\n",
       "26   3.0       937.0       136.6       1\n",
       "27   4.0       937.1       136.5       1"
      ]
     },
     "execution_count": 29,
     "metadata": {},
     "output_type": "execute_result"
    }
   ],
   "source": [
    "task_data_cleaned.head()"
   ]
  },
  {
   "cell_type": "code",
   "execution_count": 30,
   "metadata": {},
   "outputs": [
    {
     "data": {
      "text/html": [
       "<div>\n",
       "<style scoped>\n",
       "    .dataframe tbody tr th:only-of-type {\n",
       "        vertical-align: middle;\n",
       "    }\n",
       "\n",
       "    .dataframe tbody tr th {\n",
       "        vertical-align: top;\n",
       "    }\n",
       "\n",
       "    .dataframe thead th {\n",
       "        text-align: right;\n",
       "    }\n",
       "</style>\n",
       "<table border=\"1\" class=\"dataframe\">\n",
       "  <thead>\n",
       "    <tr style=\"text-align: right;\">\n",
       "      <th></th>\n",
       "      <th>Time</th>\n",
       "      <th>Position_x</th>\n",
       "      <th>Position_y</th>\n",
       "      <th>output</th>\n",
       "    </tr>\n",
       "  </thead>\n",
       "  <tbody>\n",
       "    <tr>\n",
       "      <th>23</th>\n",
       "      <td>0.0</td>\n",
       "      <td>936.6</td>\n",
       "      <td>136.3</td>\n",
       "      <td>1</td>\n",
       "    </tr>\n",
       "    <tr>\n",
       "      <th>24</th>\n",
       "      <td>1.0</td>\n",
       "      <td>936.2</td>\n",
       "      <td>136.5</td>\n",
       "      <td>1</td>\n",
       "    </tr>\n",
       "    <tr>\n",
       "      <th>25</th>\n",
       "      <td>2.0</td>\n",
       "      <td>936.6</td>\n",
       "      <td>136.6</td>\n",
       "      <td>1</td>\n",
       "    </tr>\n",
       "    <tr>\n",
       "      <th>26</th>\n",
       "      <td>3.0</td>\n",
       "      <td>937.0</td>\n",
       "      <td>136.6</td>\n",
       "      <td>1</td>\n",
       "    </tr>\n",
       "    <tr>\n",
       "      <th>27</th>\n",
       "      <td>4.0</td>\n",
       "      <td>937.1</td>\n",
       "      <td>136.5</td>\n",
       "      <td>1</td>\n",
       "    </tr>\n",
       "    <tr>\n",
       "      <th>...</th>\n",
       "      <td>...</td>\n",
       "      <td>...</td>\n",
       "      <td>...</td>\n",
       "      <td>...</td>\n",
       "    </tr>\n",
       "    <tr>\n",
       "      <th>1369473</th>\n",
       "      <td>2300068.0</td>\n",
       "      <td>1004.3</td>\n",
       "      <td>-1.0</td>\n",
       "      <td>1</td>\n",
       "    </tr>\n",
       "    <tr>\n",
       "      <th>1369474</th>\n",
       "      <td>2300069.0</td>\n",
       "      <td>1004.3</td>\n",
       "      <td>-1.0</td>\n",
       "      <td>1</td>\n",
       "    </tr>\n",
       "    <tr>\n",
       "      <th>1369475</th>\n",
       "      <td>2300070.0</td>\n",
       "      <td>1004.1</td>\n",
       "      <td>-1.0</td>\n",
       "      <td>1</td>\n",
       "    </tr>\n",
       "    <tr>\n",
       "      <th>1369476</th>\n",
       "      <td>2300071.0</td>\n",
       "      <td>1003.6</td>\n",
       "      <td>-1.0</td>\n",
       "      <td>1</td>\n",
       "    </tr>\n",
       "    <tr>\n",
       "      <th>1369478</th>\n",
       "      <td>2300072.0</td>\n",
       "      <td>1003.1</td>\n",
       "      <td>-1.0</td>\n",
       "      <td>1</td>\n",
       "    </tr>\n",
       "  </tbody>\n",
       "</table>\n",
       "<p>1360860 rows × 4 columns</p>\n",
       "</div>"
      ],
      "text/plain": [
       "              Time  Position_x  Position_y  output\n",
       "23             0.0       936.6       136.3       1\n",
       "24             1.0       936.2       136.5       1\n",
       "25             2.0       936.6       136.6       1\n",
       "26             3.0       937.0       136.6       1\n",
       "27             4.0       937.1       136.5       1\n",
       "...            ...         ...         ...     ...\n",
       "1369473  2300068.0      1004.3        -1.0       1\n",
       "1369474  2300069.0      1004.3        -1.0       1\n",
       "1369475  2300070.0      1004.1        -1.0       1\n",
       "1369476  2300071.0      1003.6        -1.0       1\n",
       "1369478  2300072.0      1003.1        -1.0       1\n",
       "\n",
       "[1360860 rows x 4 columns]"
      ]
     },
     "execution_count": 30,
     "metadata": {},
     "output_type": "execute_result"
    }
   ],
   "source": [
    "task_data_cleaned"
   ]
  },
  {
   "cell_type": "code",
   "execution_count": 31,
   "metadata": {},
   "outputs": [],
   "source": [
    "task_data = task_data_cleaned\n",
    "for i in range(1,len(tags)):\n",
    "    task_data_1 = pd.read_csv('task_data_{}.csv'.format(i+1))\n",
    "    task_data_1 = task_data_1.drop('Events', axis=1)\n",
    "    task_data_1 = task_data_1.dropna(subset=['Time'])\n",
    "    first_value = task_data_1.iloc[0, 0]\n",
    "    task_data_1['Time'] -= first_value\n",
    "    task_data_1['output'] = tags.iloc[i, 1]\n",
    "    task_data = pd.concat([task_data, task_data_1], ignore_index=True)\n",
    "\n",
    "\n",
    "    "
   ]
  },
  {
   "cell_type": "code",
   "execution_count": 32,
   "metadata": {},
   "outputs": [
    {
     "data": {
      "text/html": [
       "<div>\n",
       "<style scoped>\n",
       "    .dataframe tbody tr th:only-of-type {\n",
       "        vertical-align: middle;\n",
       "    }\n",
       "\n",
       "    .dataframe tbody tr th {\n",
       "        vertical-align: top;\n",
       "    }\n",
       "\n",
       "    .dataframe thead th {\n",
       "        text-align: right;\n",
       "    }\n",
       "</style>\n",
       "<table border=\"1\" class=\"dataframe\">\n",
       "  <thead>\n",
       "    <tr style=\"text-align: right;\">\n",
       "      <th></th>\n",
       "      <th>Time</th>\n",
       "      <th>Position_x</th>\n",
       "      <th>Position_y</th>\n",
       "      <th>output</th>\n",
       "    </tr>\n",
       "  </thead>\n",
       "  <tbody>\n",
       "    <tr>\n",
       "      <th>0</th>\n",
       "      <td>0.0</td>\n",
       "      <td>936.6</td>\n",
       "      <td>136.3</td>\n",
       "      <td>1</td>\n",
       "    </tr>\n",
       "    <tr>\n",
       "      <th>1</th>\n",
       "      <td>1.0</td>\n",
       "      <td>936.2</td>\n",
       "      <td>136.5</td>\n",
       "      <td>1</td>\n",
       "    </tr>\n",
       "    <tr>\n",
       "      <th>2</th>\n",
       "      <td>2.0</td>\n",
       "      <td>936.6</td>\n",
       "      <td>136.6</td>\n",
       "      <td>1</td>\n",
       "    </tr>\n",
       "    <tr>\n",
       "      <th>3</th>\n",
       "      <td>3.0</td>\n",
       "      <td>937.0</td>\n",
       "      <td>136.6</td>\n",
       "      <td>1</td>\n",
       "    </tr>\n",
       "    <tr>\n",
       "      <th>4</th>\n",
       "      <td>4.0</td>\n",
       "      <td>937.1</td>\n",
       "      <td>136.5</td>\n",
       "      <td>1</td>\n",
       "    </tr>\n",
       "  </tbody>\n",
       "</table>\n",
       "</div>"
      ],
      "text/plain": [
       "   Time  Position_x  Position_y  output\n",
       "0   0.0       936.6       136.3       1\n",
       "1   1.0       936.2       136.5       1\n",
       "2   2.0       936.6       136.6       1\n",
       "3   3.0       937.0       136.6       1\n",
       "4   4.0       937.1       136.5       1"
      ]
     },
     "execution_count": 32,
     "metadata": {},
     "output_type": "execute_result"
    }
   ],
   "source": [
    "task_data.head()"
   ]
  },
  {
   "cell_type": "code",
   "execution_count": 35,
   "metadata": {},
   "outputs": [
    {
     "name": "stdout",
     "output_type": "stream",
     "text": [
      "Are there any NaN values in the DataFrame? False\n",
      "Number of NaN values in the DataFrame: 0\n"
     ]
    }
   ],
   "source": [
    "nan_values = task_data['Position_y'].isna()\n",
    "\n",
    "# Check if there are any NaN values in the DataFrame\n",
    "any_nan = nan_values.any().any()\n",
    "\n",
    "# Count the number of NaN values in the DataFrame\n",
    "num_nan = nan_values.sum().sum()\n",
    "\n",
    "print(\"Are there any NaN values in the DataFrame?\", any_nan)\n",
    "print(\"Number of NaN values in the DataFrame:\", num_nan)"
   ]
  },
  {
   "cell_type": "code",
   "execution_count": 34,
   "metadata": {},
   "outputs": [
    {
     "name": "stderr",
     "output_type": "stream",
     "text": [
      "C:\\Users\\Ghareeb\\AppData\\Local\\Temp\\ipykernel_27112\\1306665614.py:1: FutureWarning: A value is trying to be set on a copy of a DataFrame or Series through chained assignment using an inplace method.\n",
      "The behavior will change in pandas 3.0. This inplace method will never work because the intermediate object on which we are setting values always behaves as a copy.\n",
      "\n",
      "For example, when doing 'df[col].method(value, inplace=True)', try using 'df.method({col: value}, inplace=True)' or df[col] = df[col].method(value) instead, to perform the operation inplace on the original object.\n",
      "\n",
      "\n",
      "  task_data['Position_x'].fillna(-1,inplace = True)\n",
      "C:\\Users\\Ghareeb\\AppData\\Local\\Temp\\ipykernel_27112\\1306665614.py:2: FutureWarning: A value is trying to be set on a copy of a DataFrame or Series through chained assignment using an inplace method.\n",
      "The behavior will change in pandas 3.0. This inplace method will never work because the intermediate object on which we are setting values always behaves as a copy.\n",
      "\n",
      "For example, when doing 'df[col].method(value, inplace=True)', try using 'df.method({col: value}, inplace=True)' or df[col] = df[col].method(value) instead, to perform the operation inplace on the original object.\n",
      "\n",
      "\n",
      "  task_data['Position_y'].fillna(-1,inplace = True)\n"
     ]
    }
   ],
   "source": [
    "task_data['Position_x'].fillna(-1,inplace = True)\n",
    "task_data['Position_y'].fillna(-1,inplace = True)"
   ]
  },
  {
   "cell_type": "code",
   "execution_count": 36,
   "metadata": {},
   "outputs": [],
   "source": [
    "task_data.to_csv('task_data_final.csv', index = False)"
   ]
  },
  {
   "cell_type": "code",
   "execution_count": 3,
   "metadata": {},
   "outputs": [],
   "source": [
    "task_data = pd.read_csv('Task_data_final.csv')"
   ]
  },
  {
   "cell_type": "code",
   "execution_count": 3,
   "metadata": {},
   "outputs": [
    {
     "name": "stdout",
     "output_type": "stream",
     "text": [
      "The data set has 96592400 data Points\n",
      "The data set has 4 Variable\n"
     ]
    }
   ],
   "source": [
    "shape = task_data.shape \n",
    "print(\"The data set has\", shape[0],\"data Points\")\n",
    "print(\"The data set has\", shape[1],\"Variable\")"
   ]
  },
  {
   "cell_type": "code",
   "execution_count": 99,
   "metadata": {},
   "outputs": [],
   "source": [
    "class_0_subset = task_data[task_data['output'] == 0]\n",
    "class_1_subset = task_data[task_data['output'] == 1]\n",
    "\n",
    "# Randomly sample 50,000 points from each subset\n",
    "sample_class_0 = class_0_subset.sample(n=6000000)\n",
    "sample_class_1 = class_1_subset.sample(n=6000000)\n",
    "\n",
    "final_task_data = pd.concat([sample_class_0, sample_class_1], ignore_index=True)\n",
    "\n",
    "# Shuffle the final sample to ensure randomness\n",
    "final_task_data = final_task_data.sample(frac=1, random_state=42).reset_index(drop=True)\n"
   ]
  },
  {
   "cell_type": "code",
   "execution_count": 100,
   "metadata": {},
   "outputs": [
    {
     "data": {
      "text/plain": [
       "(12000000,)"
      ]
     },
     "execution_count": 100,
     "metadata": {},
     "output_type": "execute_result"
    }
   ],
   "source": [
    "y = final_task_data.iloc[:, -1]\n",
    "x = final_task_data.drop('output', axis = 1)\n",
    "\n",
    "\n",
    "#x.columns = None\n",
    "y.shape"
   ]
  },
  {
   "cell_type": "code",
   "execution_count": 101,
   "metadata": {},
   "outputs": [],
   "source": [
    "scaler = StandardScaler()\n",
    "\n",
    "#scaler.fit(x.drop('output', axis = 1))\n",
    "scaler.fit(x)\n",
    "\n",
    "x = scaler.transform(x)"
   ]
  },
  {
   "cell_type": "code",
   "execution_count": 102,
   "metadata": {},
   "outputs": [
    {
     "data": {
      "text/plain": [
       "(12000000,)"
      ]
     },
     "execution_count": 102,
     "metadata": {},
     "output_type": "execute_result"
    }
   ],
   "source": [
    "#x.columns  = [\"\",\"\",\"\"]\n",
    "#y.columns = [\"\"]\n",
    "\n",
    "#y.shape\n",
    "y.shape"
   ]
  },
  {
   "cell_type": "code",
   "execution_count": 29,
   "metadata": {},
   "outputs": [
    {
     "data": {
      "text/plain": [
       "['scaler.pkl']"
      ]
     },
     "execution_count": 29,
     "metadata": {},
     "output_type": "execute_result"
    }
   ],
   "source": [
    "joblib.dump(scaler, 'scaler.pkl')"
   ]
  },
  {
   "cell_type": "code",
   "execution_count": 103,
   "metadata": {},
   "outputs": [],
   "source": [
    "x_train, x_test, y_train, y_test = \\\n",
    "        train_test_split(x, y, train_size=0.7, random_state= None)"
   ]
  },
  {
   "cell_type": "code",
   "execution_count": 25,
   "metadata": {},
   "outputs": [],
   "source": [
    "from tqdm import tqdm"
   ]
  },
  {
   "cell_type": "code",
   "execution_count": 104,
   "metadata": {},
   "outputs": [
    {
     "name": "stderr",
     "output_type": "stream",
     "text": [
      "Model Training and Testing:  50%|█████     | 2/4 [09:12<07:53, 236.67s/it]"
     ]
    },
    {
     "name": "stdout",
     "output_type": "stream",
     "text": [
      "Train Accuracy:  0.9877045238095238\n"
     ]
    },
    {
     "name": "stderr",
     "output_type": "stream",
     "text": [
      "Model Training and Testing: 100%|██████████| 4/4 [11:06<00:00, 166.64s/it]"
     ]
    },
    {
     "name": "stdout",
     "output_type": "stream",
     "text": [
      "Test Accuracy:  0.9194236111111111\n"
     ]
    },
    {
     "name": "stderr",
     "output_type": "stream",
     "text": [
      "\n"
     ]
    }
   ],
   "source": [
    "pbar = tqdm(total=4, desc=\"Model Training and Testing\")\n",
    "rf_classifier = RandomForestClassifier(n_estimators=100, criterion='log_loss',n_jobs=-1)\n",
    "rf_classifier.fit(x_train, y_train)\n",
    "pbar.update(1)\n",
    "y_pred = rf_classifier.predict(x_test)\n",
    "accuracy_score(y_test, y_pred)\n",
    "pbar.update(1)\n",
    "# kfold_scores = cross_val_score(rf_classifier, x_train, y_train, cv=5, n_jobs=-1)\n",
    "pbar.update(1)\n",
    "# get the average score for the cross validation\n",
    "# val_acc = sum(kfold_scores) / len(kfold_scores)\n",
    "print(\"Train Accuracy: \", rf_classifier.score(x_train, y_train))\n",
    "print(\"Test Accuracy: \", accuracy_score(y_test, y_pred))\n",
    "# print(\"Cross Validation Accuracy: \", val_acc)\n",
    "pbar.update(1)\n",
    "pbar.close()"
   ]
  },
  {
   "cell_type": "code",
   "execution_count": 105,
   "metadata": {},
   "outputs": [
    {
     "data": {
      "text/plain": [
       "['RF_model.pkl']"
      ]
     },
     "execution_count": 105,
     "metadata": {},
     "output_type": "execute_result"
    }
   ],
   "source": [
    "joblib.dump(rf_classifier, 'RF_model.pkl')"
   ]
  },
  {
   "cell_type": "code",
   "execution_count": 72,
   "metadata": {},
   "outputs": [
    {
     "name": "stderr",
     "output_type": "stream",
     "text": [
      "Model Training and Testing: 100%|██████████| 4/4 [01:53<00:00, 28.38s/it]"
     ]
    },
    {
     "name": "stdout",
     "output_type": "stream",
     "text": [
      "Train Accuracy:  0.9017152058318427\n",
      "Test Accuracy:  0.8696122152090114\n",
      "Cross Validation Accuracy:  0.8387824887642596\n"
     ]
    },
    {
     "name": "stderr",
     "output_type": "stream",
     "text": [
      "\n"
     ]
    }
   ],
   "source": [
    "pbar = tqdm(total=4, desc=\"Model Training and Testing\")\n",
    "KNN_classifier = KNeighborsClassifier(n_neighbors= 5)\n",
    "KNN_classifier.fit(x_train, y_train)\n",
    "train_pred = KNN_classifier.predict(x_train)\n",
    "train_score = accuracy_score(y_train, train_pred)\n",
    "pbar.update(1)\n",
    "y_pred = rf_classifier.predict(x_test)\n",
    "test_score = accuracy_score(y_test, y_pred)\n",
    "pbar.update(1)\n",
    "kfold_scores = cross_val_score(KNN_classifier, x_train, y_train, cv=5, n_jobs=-1)\n",
    "pbar.update(1)\n",
    "# get the average score for the cross validation\n",
    "val_acc = sum(kfold_scores) / len(kfold_scores)\n",
    "print(\"Train Accuracy: \", KNN_classifier.score(x_train, y_train))\n",
    "print(\"Test Accuracy: \", test_score)\n",
    "print(\"Cross Validation Accuracy: \", val_acc)\n",
    "pbar.update(1)\n",
    "pbar.close()"
   ]
  },
  {
   "cell_type": "code",
   "execution_count": 66,
   "metadata": {},
   "outputs": [
    {
     "name": "stderr",
     "output_type": "stream",
     "text": [
      "Model Training and Testing:   0%|          | 0/5 [00:14<?, ?it/s]\n",
      "Model Training and Testing: 100%|██████████| 5/5 [05:52<00:00, 70.54s/it]"
     ]
    },
    {
     "name": "stdout",
     "output_type": "stream",
     "text": [
      "Train Accuracy:  0.9017152058318427\n",
      "Test Accuracy:  0.8566551032021352\n",
      "Cross Validation Accuracy:  0.8387824887642596\n"
     ]
    },
    {
     "name": "stderr",
     "output_type": "stream",
     "text": [
      "\n"
     ]
    }
   ],
   "source": [
    "pbar = tqdm(total=5, desc=\"Model Training and Testing\")\n",
    "ensemble = VotingClassifier(estimators=[('knn', KNN_classifier), ('rf', rf_classifier)], voting='hard')\n",
    "ensemble.fit(x_train, y_train)\n",
    "pbar.update(1)\n",
    "train_pred = KNN_classifier.predict(x_train)\n",
    "train_score = accuracy_score(y_train, train_pred)\n",
    "pbar.update(1)\n",
    "y_pred_ensemble = ensemble.predict(x_test)\n",
    "test_score_ensemble = accuracy_score(y_test, y_pred_ensemble)\n",
    "pbar.update(1)\n",
    "kfold_scores = cross_val_score(KNN_classifier, x_train, y_train, cv=5, n_jobs=-1)\n",
    "pbar.update(1)\n",
    "# get the average score for the cross validation\n",
    "val_acc = sum(kfold_scores) / len(kfold_scores)\n",
    "print(\"Train Accuracy: \", train_score)\n",
    "print(\"Test Accuracy: \", test_score_ensemble)\n",
    "print(\"Cross Validation Accuracy: \", val_acc)\n",
    "pbar.update(1)\n",
    "pbar.close()\n"
   ]
  },
  {
   "cell_type": "code",
   "execution_count": 41,
   "metadata": {},
   "outputs": [
    {
     "name": "stderr",
     "output_type": "stream",
     "text": [
      "Model Training and Testing: 100%|██████████| 4/4 [00:09<00:00,  2.42s/it]"
     ]
    },
    {
     "name": "stdout",
     "output_type": "stream",
     "text": [
      "Train Accuracy:  0.7536271428571428\n",
      "Test Accuracy:  0.74916\n",
      "Cross Validation Accuracy:  0.7495342857142857\n"
     ]
    },
    {
     "name": "stderr",
     "output_type": "stream",
     "text": [
      "\n"
     ]
    }
   ],
   "source": [
    "pbar = tqdm(total=4, desc=\"Model Training and Testing\")\n",
    "xgb_classifier = XGBClassifier()\n",
    "xgb_classifier.fit(x_train, y_train)\n",
    "train_pred = xgb_classifier.predict(x_train)\n",
    "train_score = accuracy_score(y_train, train_pred)\n",
    "pbar.update(1)\n",
    "y_pred = xgb_classifier.predict(x_test)\n",
    "test_score = accuracy_score(y_test, y_pred)\n",
    "pbar.update(1)\n",
    "kfold_scores = cross_val_score(xgb_classifier, x_train, y_train, cv=5, n_jobs=-1)\n",
    "pbar.update(1)\n",
    "# get the average score for the cross validation\n",
    "val_acc = sum(kfold_scores) / len(kfold_scores)\n",
    "print(\"Train Accuracy: \", train_score)\n",
    "print(\"Test Accuracy: \", test_score)\n",
    "print(\"Cross Validation Accuracy: \", val_acc)\n",
    "pbar.update(1)\n",
    "pbar.close()"
   ]
  },
  {
   "cell_type": "code",
   "execution_count": 42,
   "metadata": {},
   "outputs": [
    {
     "name": "stderr",
     "output_type": "stream",
     "text": [
      "Model Training and Testing:   0%|          | 0/4 [00:00<?, ?it/s]"
     ]
    },
    {
     "name": "stdout",
     "output_type": "stream",
     "text": [
      "[LightGBM] [Info] Number of positive: 350020, number of negative: 349980\n",
      "[LightGBM] [Info] Auto-choosing row-wise multi-threading, the overhead of testing was 0.003804 seconds.\n",
      "You can set `force_row_wise=true` to remove the overhead.\n",
      "And if memory is not enough, you can set `force_col_wise=true`.\n",
      "[LightGBM] [Info] Total Bins 765\n",
      "[LightGBM] [Info] Number of data points in the train set: 700000, number of used features: 3\n",
      "[LightGBM] [Info] [binary:BoostFromScore]: pavg=0.500029 -> initscore=0.000114\n",
      "[LightGBM] [Info] Start training from score 0.000114\n"
     ]
    },
    {
     "name": "stderr",
     "output_type": "stream",
     "text": [
      "Model Training and Testing: 100%|██████████| 4/4 [00:08<00:00,  2.22s/it]"
     ]
    },
    {
     "name": "stdout",
     "output_type": "stream",
     "text": [
      "Train Accuracy:  0.7326571428571429\n",
      "Test Accuracy:  0.7302866666666666\n",
      "Cross Validation Accuracy:  0.7315814285714286\n"
     ]
    },
    {
     "name": "stderr",
     "output_type": "stream",
     "text": [
      "\n"
     ]
    }
   ],
   "source": [
    "pbar = tqdm(total=4, desc=\"Model Training and Testing\")\n",
    "lgb_classifier = LGBMClassifier()\n",
    "lgb_classifier.fit(x_train, y_train)\n",
    "train_pred = lgb_classifier.predict(x_train)\n",
    "train_score = accuracy_score(y_train, train_pred)\n",
    "pbar.update(1)\n",
    "y_pred = lgb_classifier.predict(x_test)\n",
    "test_score = accuracy_score(y_test, y_pred)\n",
    "pbar.update(1)\n",
    "kfold_scores = cross_val_score(lgb_classifier, x_train, y_train, cv=5, n_jobs=-1)\n",
    "pbar.update(1)\n",
    "# get the average score for the cross validation\n",
    "val_acc = sum(kfold_scores) / len(kfold_scores)\n",
    "print(\"Train Accuracy: \", train_score)\n",
    "print(\"Test Accuracy: \", test_score)\n",
    "print(\"Cross Validation Accuracy: \", val_acc)\n",
    "pbar.update(1)\n",
    "pbar.close()"
   ]
  },
  {
   "cell_type": "code",
   "execution_count": 44,
   "metadata": {},
   "outputs": [
    {
     "name": "stderr",
     "output_type": "stream",
     "text": [
      "Model Training and Testing: 100%|██████████| 4/4 [00:12<00:00,  3.22s/it]"
     ]
    },
    {
     "name": "stdout",
     "output_type": "stream",
     "text": [
      "Train Accuracy:  0.73163\n",
      "Test Accuracy:  0.7301233333333333\n",
      "Cross Validation Accuracy:  0.7307971428571428\n"
     ]
    },
    {
     "name": "stderr",
     "output_type": "stream",
     "text": [
      "\n"
     ]
    }
   ],
   "source": [
    "pbar = tqdm(total=4, desc=\"Model Training and Testing\")\n",
    "HGB_classifier = HistGradientBoostingClassifier()\n",
    "HGB_classifier.fit(x_train, y_train)\n",
    "train_pred = HGB_classifier.predict(x_train)\n",
    "train_score = accuracy_score(y_train, train_pred)\n",
    "pbar.update(1)\n",
    "y_pred = HGB_classifier.predict(x_test)\n",
    "test_score = accuracy_score(y_test, y_pred)\n",
    "pbar.update(1)\n",
    "kfold_scores = cross_val_score(HGB_classifier, x_train, y_train, cv=5, n_jobs=-1)\n",
    "pbar.update(1)\n",
    "# get the average score for the cross validation\n",
    "val_acc = sum(kfold_scores) / len(kfold_scores)\n",
    "print(\"Train Accuracy: \", train_score)\n",
    "print(\"Test Accuracy: \", test_score)\n",
    "print(\"Cross Validation Accuracy: \", val_acc)\n",
    "pbar.update(1)\n",
    "pbar.close()"
   ]
  },
  {
   "cell_type": "code",
   "execution_count": 62,
   "metadata": {},
   "outputs": [
    {
     "name": "stderr",
     "output_type": "stream",
     "text": [
      "Model Training and Testing: 100%|██████████| 4/4 [14:25<00:00, 216.29s/it]"
     ]
    },
    {
     "name": "stdout",
     "output_type": "stream",
     "text": [
      "Train Accuracy:  0.6978466304557454\n",
      "Test Accuracy:  0.6967102459279859\n",
      "Cross Validation Accuracy:  0.6931425443184789\n"
     ]
    },
    {
     "name": "stderr",
     "output_type": "stream",
     "text": [
      "\n"
     ]
    }
   ],
   "source": [
    "pbar = tqdm(total=4, desc=\"Model Training and Testing\")\n",
    "MLP_classifier = MLPClassifier(hidden_layer_sizes=(100,), activation='tanh', solver='sgd')\n",
    "MLP_classifier.fit(x_train, y_train)\n",
    "train_pred = MLP_classifier.predict(x_train)\n",
    "train_score = accuracy_score(y_train, train_pred)\n",
    "pbar.update(1)\n",
    "y_pred = MLP_classifier.predict(x_test)\n",
    "test_score = accuracy_score(y_test, y_pred)\n",
    "pbar.update(1)\n",
    "kfold_scores = cross_val_score(MLP_classifier, x_train, y_train, cv=5, n_jobs=-1)\n",
    "pbar.update(1)\n",
    "# get the average score for the cross validation\n",
    "val_acc = sum(kfold_scores) / len(kfold_scores)\n",
    "print(\"Train Accuracy: \", train_score)\n",
    "print(\"Test Accuracy: \", test_score)\n",
    "print(\"Cross Validation Accuracy: \", val_acc)\n",
    "pbar.update(1)\n",
    "pbar.close()"
   ]
  },
  {
   "cell_type": "code",
   "execution_count": 32,
   "metadata": {},
   "outputs": [
    {
     "name": "stderr",
     "output_type": "stream",
     "text": [
      "Model Training and Testing: 100%|██████████| 2/2 [15:26<00:00, 463.29s/it]"
     ]
    },
    {
     "name": "stdout",
     "output_type": "stream",
     "text": [
      "Train Accuracy:  0.6778285714285714\n",
      "Test Accuracy:  0.6762\n",
      "Cross Validation Accuracy:  0.6751142857142858\n"
     ]
    },
    {
     "name": "stderr",
     "output_type": "stream",
     "text": [
      "\n"
     ]
    }
   ],
   "source": [
    "pbar = tqdm(total=2, desc=\"Model Training and Testing\")\n",
    "svm_model = SVC()\n",
    "svm_model.fit(x_train, y_train)\n",
    "pbar.update(1)\n",
    "y_pred = svm_model.predict(x_test)\n",
    "accuracy_score(y_test, y_pred)\n",
    "kfold_scores = cross_val_score(svm_model, x_train, y_train, cv=5, n_jobs=-1)\n",
    "pbar.update(1)\n",
    "# get the average score for the cross validation\n",
    "val_acc = sum(kfold_scores) / len(kfold_scores)\n",
    "print(\"Train Accuracy: \", svm_model.score(x_train, y_train))\n",
    "print(\"Test Accuracy: \", accuracy_score(y_test, y_pred))\n",
    "print(\"Cross Validation Accuracy: \", val_acc)\n",
    "pbar.close()"
   ]
  },
  {
   "cell_type": "code",
   "execution_count": null,
   "metadata": {},
   "outputs": [],
   "source": []
  },
  {
   "cell_type": "code",
   "execution_count": 39,
   "metadata": {},
   "outputs": [
    {
     "data": {
      "text/plain": [
       "['SVM_model.pkl']"
      ]
     },
     "execution_count": 39,
     "metadata": {},
     "output_type": "execute_result"
    }
   ],
   "source": [
    "joblib.dump(svm_model, 'SVM_model.pkl')"
   ]
  },
  {
   "cell_type": "code",
   "execution_count": 46,
   "metadata": {},
   "outputs": [
    {
     "name": "stdout",
     "output_type": "stream",
     "text": [
      "[1 0 1]\n",
      "ADHD\n"
     ]
    },
    {
     "ename": "",
     "evalue": "",
     "output_type": "error",
     "traceback": [
      "\u001b[1;31mThe Kernel crashed while executing code in the current cell or a previous cell. \n",
      "\u001b[1;31mPlease review the code in the cell(s) to identify a possible cause of the failure. \n",
      "\u001b[1;31mClick <a href='https://aka.ms/vscodeJupyterKernelCrash'>here</a> for more info. \n",
      "\u001b[1;31mView Jupyter <a href='command:jupyter.viewOutput'>log</a> for further details."
     ]
    }
   ],
   "source": [
    "random_sample = pd.DataFrame(x_test).sample(n=3)\n",
    "\n",
    "random_sample.columns\n",
    "# random_sample = x_test[130, :].reshape(1,-1)\n",
    "#print(random_sample)\n",
    "output = svm_model.predict(random_sample)\n",
    "print(output)\n",
    "if output[2] == 1:\n",
    "    print(\"ADHD\")\n",
    "else:\n",
    "    print(\"Non-ADHD\")"
   ]
  }
 ],
 "metadata": {
  "kernelspec": {
   "display_name": "base",
   "language": "python",
   "name": "python3"
  },
  "language_info": {
   "codemirror_mode": {
    "name": "ipython",
    "version": 3
   },
   "file_extension": ".py",
   "mimetype": "text/x-python",
   "name": "python",
   "nbconvert_exporter": "python",
   "pygments_lexer": "ipython3",
   "version": "3.10.13"
  }
 },
 "nbformat": 4,
 "nbformat_minor": 2
}
